{
 "cells": [
  {
   "cell_type": "markdown",
   "id": "5c254c99-a949-4b6d-b710-e4e3c3cb0e85",
   "metadata": {},
   "source": [
    "# Data Science Tools and Ecosystem "
   ]
  },
  {
   "cell_type": "markdown",
   "id": "f9e29c40-ed4d-4175-89ca-2e4efd13e4f7",
   "metadata": {},
   "source": [
    "## Author: Dawit Zerihun"
   ]
  },
  {
   "cell_type": "code",
   "execution_count": null,
   "id": "a51c60b4-6529-4546-aa4d-93080ad2a621",
   "metadata": {},
   "outputs": [],
   "source": []
  },
  {
   "cell_type": "markdown",
   "id": "60502bea-0bef-46ba-88c7-82751d6ec9aa",
   "metadata": {},
   "source": [
    "In this notebook, Data Science Tools and Ecosystem are sumamrized.\n",
    "\n",
    "**Objectives: Students will be familirized with**\n",
    "\n",
    "* Data integration and transfomration tools\n",
    "* Data visualization toos\n",
    "* Data asset managemnt and code asset managment tools \n"
   ]
  },
  {
   "cell_type": "markdown",
   "id": "6a62a8d6-d97b-4959-8dfa-be1faa9c597e",
   "metadata": {},
   "source": [
    "Some of the popular languages Data Scientists use are:\n",
    "1. Python\n",
    "2. Scala\n",
    "3. Julia\n",
    "4. R"
   ]
  },
  {
   "cell_type": "markdown",
   "id": "f67eecf5-bb47-4a73-911e-b53fa5814698",
   "metadata": {},
   "source": [
    "Some of the libraries commonly used by Data Scientists include: \n",
    "1. Pandas\n",
    "2. SciPy\n",
    "3. MatPlotLib\n",
    "4. ggplot"
   ]
  },
  {
   "cell_type": "markdown",
   "id": "05b15a2a-c3ea-4da4-b16c-76fe40834a45",
   "metadata": {},
   "source": [
    "|Data Science Tools  |\n",
    "|--------------------|\n",
    "| Jupiter IDE        |\n",
    "| RStudio            |\n",
    "| Anaconda Navigator |"
   ]
  },
  {
   "cell_type": "markdown",
   "id": "f412322b-d10f-4870-ac07-856f76db348b",
   "metadata": {},
   "source": [
    "Below are a few examples of evaluating arithimetic expressions in Python"
   ]
  },
  {
   "cell_type": "markdown",
   "id": "4aa517e8-4db4-4819-a961-d903dcd4ebf0",
   "metadata": {},
   "source": [
    "This a simple arithmetic expression to multiply and then add integers  "
   ]
  },
  {
   "cell_type": "code",
   "execution_count": 9,
   "id": "fbce6c55-eb16-4f4a-9a88-3254b80cf0e8",
   "metadata": {},
   "outputs": [
    {
     "data": {
      "text/plain": [
       "17"
      ]
     },
     "execution_count": 9,
     "metadata": {},
     "output_type": "execute_result"
    }
   ],
   "source": [
    "(3*4)+5"
   ]
  },
  {
   "cell_type": "markdown",
   "id": "ec478276-3dfc-46e1-a995-49f3c0462e88",
   "metadata": {},
   "source": [
    "This will convert 200 minutes to hours by dividing by 60"
   ]
  },
  {
   "cell_type": "code",
   "execution_count": 10,
   "id": "3404ad56-fd77-4345-a219-2e1f222a9919",
   "metadata": {},
   "outputs": [
    {
     "data": {
      "text/plain": [
       "3.3333333333333335"
      ]
     },
     "execution_count": 10,
     "metadata": {},
     "output_type": "execute_result"
    }
   ],
   "source": [
    "200/60"
   ]
  },
  {
   "cell_type": "code",
   "execution_count": null,
   "id": "b48ed0b3-33ce-44a5-ae3b-c0e5e0d0bd64",
   "metadata": {},
   "outputs": [],
   "source": []
  }
 ],
 "metadata": {
  "kernelspec": {
   "display_name": "Python 3 (ipykernel)",
   "language": "python",
   "name": "python3"
  },
  "language_info": {
   "codemirror_mode": {
    "name": "ipython",
    "version": 3
   },
   "file_extension": ".py",
   "mimetype": "text/x-python",
   "name": "python",
   "nbconvert_exporter": "python",
   "pygments_lexer": "ipython3",
   "version": "3.13.5"
  }
 },
 "nbformat": 4,
 "nbformat_minor": 5
}
